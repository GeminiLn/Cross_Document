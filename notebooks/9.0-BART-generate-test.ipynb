{
 "cells": [
  {
   "cell_type": "code",
   "execution_count": 2,
   "metadata": {},
   "outputs": [],
   "source": [
    "import pandas as pd\n",
    "import numpy as np\n",
    "import os\n",
    "\n",
    "### 0000320193-17-000070,AAPL,320193,10-K,2017-11-03 00:00:00,2017-11-03 08:01:37\n",
    "### 24937,540777466,1334081,\"Apple Inc., Q4 2017 Earnings Call, Nov 02, 2017\",20171102,21:00:00,48,Earnings Calls,Apple Inc.,8,Audited Copy,5,Final,20171106,21:14:02,3488,0,\n",
    "\n",
    "earnings_embedding = np.load('../data/sample/transcripts/1334081_embedding.npy', allow_pickle=True).item()\n",
    "k_item1a = pd.read_csv('../data/sample/sec-filings/0000320193/10-K/0000320193-17-000070/embedding_item1a.csv')\n",
    "k_item7 = pd.read_csv('../data/sample/sec-filings/0000320193/10-K/0000320193-17-000070/embedding_item7.csv')\n",
    "k_item7a = pd.read_csv('../data/sample/sec-filings/0000320193/10-K/0000320193-17-000070/embedding_item7a.csv')\n",
    "data = pd.read_feather('../data/sample/transcripts/1334081.feather')"
   ]
  },
  {
   "cell_type": "code",
   "execution_count": 15,
   "metadata": {},
   "outputs": [
    {
     "data": {
      "application/vnd.google.colaboratory.intrinsic+json": {
       "type": "string"
      },
      "text/plain": [
       "\"Good afternoon, and thanks to everyone for joining us. As we closed the books in 2017, I have to say I couldn't be more excited about Apple's future. This was our biggest year ever in most parts of the world with all-time record revenue in the United States, Western Europe, Japan, Korea, the Middle East, Africa, Central and Eastern Europe and Asia. \\r\\nWe had particularly strong finish this year, generating our highest September quarter revenue ever as year-over-year growth accelerated for the fourth consecutive quarter. Revenue was $52.6 billion, above the high end of our guidance range and up 12% over last year. \\r\\nWe generated revenue growth across all of our product categories and showed all-time record results for our Services business. As we expected, we returned to growth in Greater China with unit growth and market share gains for iPhone, iPad and Mac. In fact, it was an all-time record quarter for Mac sales in mainland China as well as an all-time high for Services revenue. \\r\\nAnd revenue from emerging markets outside of Greater China was up 40% with great momentum in India, where revenue doubled year-over-year. We also had great results in enterprise and education with double-digit growth in worldwide customer purchases of iPad and Mac in both markets. Gross margin for the September quarter was at the high end of our guidance range, and thanks to exceptional work by our teams, we generated record fourth quarter earnings per share of $2.07, up 24% from a year ago. \\r\\niPhone sales exceeded our expectations. In the last 1.5 week of September, we began shipping iPhone 8 and iPhone 8 Plus to customers in more than 50 countries. They instantly became our 2 most popular iPhone models and have been every week since then.\\r\\nAs we speak, the launch of iPhone X is now underway as stores open across Australia and Asia. iPhone X is packed with innovative new technologies that chart our path for the next decade. Technologies like the TrueDepth camera system, Super Retina display and A11 Bionic chip with neural engine, which has been in development for years with a focus on deep machine learning. \\r\\niPhone X enables totally new experiences, like unlocking your iPhone with Face ID, taking photos with studio-quality lighting effects or playing immersive augmented reality games. We can't wait for people to experience our vision of the future. Orders have already been very strong and we're working to get iPhone X into customers' hands as quickly as possible. \\r\\nTurning to Services.  Revenue reached an all-time quarterly record of $8.5 billion in the September quarter. A few quarters ago, we established a goal of doubling our fiscal 2016 Services revenue of $24 billion by the year 2020, and we are well on our way to meeting that goal. \\r\\nIn fiscal 2017, we reached $30 billion, making our Services business already the size of a Fortune 100 company. We're also delighted to report our second consecutive quarter of double-digit unit growth for iPad. Customers have responded very positively to the new iPad lineup. And with the launch of iOS 11, the iPad experience has become more powerful than ever with great new features for getting things done, like the new dock, files app, drag-and-drop, multitasking and more power than most PC notebooks. \\r\\nThe launch of iOS 11 also made iOS the world's largest platform for augmented reality. There are already over 1,000 apps with powerful AR features in our App Store today, with developers creating amazing new experiences in virtually every category of apps aimed at consumers, students and [ business ]users alike. Put simply, we believe AR is going to change the way we use technology forever. \\r\\nWe're already seeing things that will transform the way you work, play, connect and learn. For example, there are AR apps that let you interact with virtual models of everything you can imagine, from the human body to the solar system. And of course, you experience them like they're really there. Instantly, education becomes much more powerful when every subject comes to life in 3D. And imagine shopping, when you can place an object in your living room before you make a purchase, or attending live sporting events when you can see the stats on the field. AR is going to change everything. \\r\\niOS 11 is also allowing developers to integrate machine learning models into their apps with Core ML. Pinterest is already using Core ML to deliver fast and powerful visual search. PadMapper uses Core ML to provide intelligent features that make it easy to find or rent your apartment. And VisualDx is even pioneering new health diagnostics with Core ML, automating [ scanned ] image analysis to assist dermatologists with their diagnosis. These are just a few examples. There's so much more to come.\\r\\nNext, I'd like to talk about the Mac, which had its best year ever, with the highest annual Mac revenue in Apple's history. It was also the best September quarter ever with Mac revenue growth of 25% driven by the notebook refreshes we launched in June and a strong back-to-school season. \\r\\nThe Mac experience has become even better since the September launch of macOS High Sierra with new technologies to make Mac more reliable, capable and responsive and lay the foundation for future innovation. \\r\\nMoving on now to Apple Watch.  With unit growth of over 50% for the third consecutive quarter, it continues to be the best selling and most loved smartwatch in the world. We began shipping Apple Watch Series 3 just 6 weeks ago and customers love the new freedom of cellular. The ability to go for a run with just your Apple Watch or go for a quick errand without your phone while staying connected is a game changer. \\r\\nNow more than ever, Apple Watch is the ultimate device for healthy life and is already making a big difference in our customers' lives. We're very excited about the upcoming launch of the Apple Heart Study, which will use data from Apple Watch to identify irregular heart rhythms and notify users when unusual patterns are detected. \\r\\nEarlier this week, we introduced watchOS 4.1, bringing 40 million songs to your wrist through Apple Music. The combination of music streaming on Apple Watch and AirPods is truly a magical experience for people on-the-go. We're thrilled with the momentum of these products. In fact, our entire wearables business was up 75% year-over-year in the fourth quarter and, in fiscal 2017, already generated the annual revenue of a Fortune 400 company. \\r\\nLate in the September quarter, we also launched Apple TV 4K, delivering a stunning cinematic experience at home. So now users around the world can watch movies and shows in 4K HDR quality and stream live sports and news on the Apple TV app. There's already a great selection of 4K HDR titles available through iTunes and other popular video services with many more movies and shows on the way.\\r\\nWe're also very excited about the opening of Apple Michigan Avenue 2 weeks ago on Chicago's riverfront. This is the first store that brings together our complete vision for the future of Apple retail, providing a welcoming place for everyone to experience our products, services and inspiring educational programs right in the heart of their city. \\r\\nIn addition to our very popular Today at Apple programming, which is available in all Apple stores around the world offering daily sessions in photography, music creation, art and design, coding and entrepreneurship, Apple Michigan Avenue is partnering with local nonprofits and creative organizations to make an ongoing positive impact in that community.\\r\\nAlso this quarter, we expanded our free app development with Swift curriculum to more than 30 community colleges across the country. We're very excited about this initiative and we're thrilled by the momentum we're seeing. The schools we've launched with this summer are just the beginning. Community colleges have a powerful reach into communities where education is the great equalizer, and the colleges adopting our curriculum this academic year are providing opportunity to millions of students to build apps that will prepare them for careers in software development and information technology and much more. We're incredibly enthusiastic about what our teams have accomplished this year and all the amazing products in our lineup.\\r\\nAs we approach the holiday season, we expect it to be our biggest quarter ever. I'd like to thank all of our teams, our partners and our customers for their passion, commitment and loyalty. You've helped us make 2017 a sensational year. \\r\\nNow for more details on the September quarter results, I'd like to turn over the call to Luca.\""
      ]
     },
     "execution_count": 15,
     "metadata": {},
     "output_type": "execute_result"
    }
   ],
   "source": [
    "data['componenttext'][2]"
   ]
  },
  {
   "cell_type": "code",
   "execution_count": 25,
   "metadata": {},
   "outputs": [
    {
     "ename": "ImportError",
     "evalue": "\nT5Tokenizer requires the SentencePiece library but it was not found in your environment. Checkout the instructions on the\ninstallation page of its repo: https://github.com/google/sentencepiece#installation and follow the ones\nthat match your environment.\n",
     "output_type": "error",
     "traceback": [
      "\u001b[0;31m---------------------------------------------------------------------------\u001b[0m",
      "\u001b[0;31mImportError\u001b[0m                               Traceback (most recent call last)",
      "\u001b[0;32m<ipython-input-25-5920750f61ac>\u001b[0m in \u001b[0;36m<module>\u001b[0;34m()\u001b[0m\n\u001b[1;32m      2\u001b[0m \u001b[0;34m\u001b[0m\u001b[0m\n\u001b[1;32m      3\u001b[0m \u001b[0mmodel\u001b[0m \u001b[0;34m=\u001b[0m \u001b[0mT5ForConditionalGeneration\u001b[0m\u001b[0;34m.\u001b[0m\u001b[0mfrom_pretrained\u001b[0m\u001b[0;34m(\u001b[0m\u001b[0;34m\"google/t5-v1_1-large\"\u001b[0m\u001b[0;34m)\u001b[0m\u001b[0;34m\u001b[0m\u001b[0;34m\u001b[0m\u001b[0m\n\u001b[0;32m----> 4\u001b[0;31m \u001b[0mtokenizer\u001b[0m \u001b[0;34m=\u001b[0m \u001b[0mT5Tokenizer\u001b[0m\u001b[0;34m.\u001b[0m\u001b[0mfrom_pretrained\u001b[0m\u001b[0;34m(\u001b[0m\u001b[0;34m\"google/t5-v1_1-large\"\u001b[0m\u001b[0;34m)\u001b[0m\u001b[0;34m\u001b[0m\u001b[0;34m\u001b[0m\u001b[0m\n\u001b[0m\u001b[1;32m      5\u001b[0m \u001b[0;34m\u001b[0m\u001b[0m\n\u001b[1;32m      6\u001b[0m \u001b[0mtest_str\u001b[0m \u001b[0;34m=\u001b[0m \u001b[0;34m\"summarize: And revenue from emerging markets outside of Greater China was up 40% with great momentum in India, where revenue doubled year-over-year. We also had great results in enterprise and education with double-digit growth in worldwide customer purchases of iPad and Mac in both markets. Gross margin for the September quarter was at the high end of our guidance range, and thanks to exceptional work by our teams, we generated record fourth quarter earnings per share of $2.07, up 24% from a year ago.\"\u001b[0m\u001b[0;34m\u001b[0m\u001b[0;34m\u001b[0m\u001b[0m\n",
      "\u001b[0;32m/usr/local/lib/python3.7/dist-packages/transformers/utils/import_utils.py\u001b[0m in \u001b[0;36m__getattr__\u001b[0;34m(cls, key)\u001b[0m\n\u001b[1;32m    786\u001b[0m         \u001b[0;32mif\u001b[0m \u001b[0mkey\u001b[0m\u001b[0;34m.\u001b[0m\u001b[0mstartswith\u001b[0m\u001b[0;34m(\u001b[0m\u001b[0;34m\"_\"\u001b[0m\u001b[0;34m)\u001b[0m\u001b[0;34m:\u001b[0m\u001b[0;34m\u001b[0m\u001b[0;34m\u001b[0m\u001b[0m\n\u001b[1;32m    787\u001b[0m             \u001b[0;32mreturn\u001b[0m \u001b[0msuper\u001b[0m\u001b[0;34m(\u001b[0m\u001b[0;34m)\u001b[0m\u001b[0;34m.\u001b[0m\u001b[0m__getattr__\u001b[0m\u001b[0;34m(\u001b[0m\u001b[0mcls\u001b[0m\u001b[0;34m,\u001b[0m \u001b[0mkey\u001b[0m\u001b[0;34m)\u001b[0m\u001b[0;34m\u001b[0m\u001b[0;34m\u001b[0m\u001b[0m\n\u001b[0;32m--> 788\u001b[0;31m         \u001b[0mrequires_backends\u001b[0m\u001b[0;34m(\u001b[0m\u001b[0mcls\u001b[0m\u001b[0;34m,\u001b[0m \u001b[0mcls\u001b[0m\u001b[0;34m.\u001b[0m\u001b[0m_backends\u001b[0m\u001b[0;34m)\u001b[0m\u001b[0;34m\u001b[0m\u001b[0;34m\u001b[0m\u001b[0m\n\u001b[0m\u001b[1;32m    789\u001b[0m \u001b[0;34m\u001b[0m\u001b[0m\n\u001b[1;32m    790\u001b[0m \u001b[0;34m\u001b[0m\u001b[0m\n",
      "\u001b[0;32m/usr/local/lib/python3.7/dist-packages/transformers/utils/import_utils.py\u001b[0m in \u001b[0;36mrequires_backends\u001b[0;34m(obj, backends)\u001b[0m\n\u001b[1;32m    774\u001b[0m     \u001b[0mfailed\u001b[0m \u001b[0;34m=\u001b[0m \u001b[0;34m[\u001b[0m\u001b[0mmsg\u001b[0m\u001b[0;34m.\u001b[0m\u001b[0mformat\u001b[0m\u001b[0;34m(\u001b[0m\u001b[0mname\u001b[0m\u001b[0;34m)\u001b[0m \u001b[0;32mfor\u001b[0m \u001b[0mavailable\u001b[0m\u001b[0;34m,\u001b[0m \u001b[0mmsg\u001b[0m \u001b[0;32min\u001b[0m \u001b[0mchecks\u001b[0m \u001b[0;32mif\u001b[0m \u001b[0;32mnot\u001b[0m \u001b[0mavailable\u001b[0m\u001b[0;34m(\u001b[0m\u001b[0;34m)\u001b[0m\u001b[0;34m]\u001b[0m\u001b[0;34m\u001b[0m\u001b[0;34m\u001b[0m\u001b[0m\n\u001b[1;32m    775\u001b[0m     \u001b[0;32mif\u001b[0m \u001b[0mfailed\u001b[0m\u001b[0;34m:\u001b[0m\u001b[0;34m\u001b[0m\u001b[0;34m\u001b[0m\u001b[0m\n\u001b[0;32m--> 776\u001b[0;31m         \u001b[0;32mraise\u001b[0m \u001b[0mImportError\u001b[0m\u001b[0;34m(\u001b[0m\u001b[0;34m\"\"\u001b[0m\u001b[0;34m.\u001b[0m\u001b[0mjoin\u001b[0m\u001b[0;34m(\u001b[0m\u001b[0mfailed\u001b[0m\u001b[0;34m)\u001b[0m\u001b[0;34m)\u001b[0m\u001b[0;34m\u001b[0m\u001b[0;34m\u001b[0m\u001b[0m\n\u001b[0m\u001b[1;32m    777\u001b[0m \u001b[0;34m\u001b[0m\u001b[0m\n\u001b[1;32m    778\u001b[0m \u001b[0;34m\u001b[0m\u001b[0m\n",
      "\u001b[0;31mImportError\u001b[0m: \nT5Tokenizer requires the SentencePiece library but it was not found in your environment. Checkout the instructions on the\ninstallation page of its repo: https://github.com/google/sentencepiece#installation and follow the ones\nthat match your environment.\n",
      "",
      "\u001b[0;31m---------------------------------------------------------------------------\u001b[0;32m\nNOTE: If your import is failing due to a missing package, you can\nmanually install dependencies using either !pip or !apt.\n\nTo view examples of installing some common dependencies, click the\n\"Open Examples\" button below.\n\u001b[0;31m---------------------------------------------------------------------------\u001b[0m\n"
     ]
    }
   ],
   "source": [
    "from transformers import BartTokenizer, BartForConditionalGeneration\n",
    "\n",
    "model = BartForConditionalGeneration.from_pretrained(\"facebook/bart-large-cnn\")\n",
    "tokenizer = BartTokenizer.from_pretrained(\"facebook/bart-large-cnn\")\n",
    "\n",
    "ARTICLE_TO_SUMMARIZE = (\n",
    "    \"PG&E stated it scheduled the blackouts in response to forecasts for high winds \"\n",
    "    \"amid dry conditions. The aim is to reduce the risk of wildfires. Nearly 800 thousand customers were \"\n",
    "    \"scheduled to be affected by the shutoffs which were expected to last through at least midday tomorrow.\"\n",
    ")\n",
    "inputs = tokenizer([ARTICLE_TO_SUMMARIZE], max_length=1024, return_tensors=\"pt\")\n",
    "\n",
    "# Generate Summary\n",
    "summary_ids = model.generate(inputs[\"input_ids\"], num_beams=2, min_length=0, max_length=20)\n",
    "tokenizer.batch_decode(summary_ids, skip_special_tokens=True, clean_up_tokenization_spaces=False)[0]"
   ]
  },
  {
   "cell_type": "code",
   "execution_count": 6,
   "metadata": {},
   "outputs": [
    {
     "data": {
      "text/plain": [
       "{'input_ids': tensor([[    0,  8332,   947,   717,  2305,    24,  1768,     5,   909,  4518,\n",
       "            11,  1263,     7,  5876,    13,   239,  2372,  2876,  3841,  1274,\n",
       "             4,    20,  4374,    16,     7,  1888,     5,   810,     9, 12584,\n",
       "             4,  9221,  5735,  7673,   916,    58,  1768,     7,    28,  2132,\n",
       "            30,     5,  2572, 10816,    61,    58,   421,     7,    94,   149,\n",
       "            23,   513, 15372,  3859,     4,     2]]), 'attention_mask': tensor([[1, 1, 1, 1, 1, 1, 1, 1, 1, 1, 1, 1, 1, 1, 1, 1, 1, 1, 1, 1, 1, 1, 1, 1,\n",
       "         1, 1, 1, 1, 1, 1, 1, 1, 1, 1, 1, 1, 1, 1, 1, 1, 1, 1, 1, 1, 1, 1, 1, 1,\n",
       "         1, 1, 1, 1, 1, 1, 1, 1]])}"
      ]
     },
     "execution_count": 6,
     "metadata": {},
     "output_type": "execute_result"
    }
   ],
   "source": [
    "inputs"
   ]
  },
  {
   "cell_type": "code",
   "execution_count": null,
   "metadata": {},
   "outputs": [],
   "source": []
  }
 ],
 "metadata": {
  "interpreter": {
   "hash": "31f2aee4e71d21fbe5cf8b01ff0e069b9275f58929596ceb00d14d90e3e16cd6"
  },
  "kernelspec": {
   "display_name": "Python 3.7.13 64-bit",
   "language": "python",
   "name": "python3"
  },
  "language_info": {
   "codemirror_mode": {
    "name": "ipython",
    "version": 3
   },
   "file_extension": ".py",
   "mimetype": "text/x-python",
   "name": "python",
   "nbconvert_exporter": "python",
   "pygments_lexer": "ipython3",
   "version": "3.7.13"
  },
  "orig_nbformat": 4
 },
 "nbformat": 4,
 "nbformat_minor": 2
}
