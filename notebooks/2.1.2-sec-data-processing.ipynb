{
 "cells": [
  {
   "cell_type": "code",
   "execution_count": 1,
   "metadata": {},
   "outputs": [],
   "source": [
    "import sys\n",
    "sys.path.append(r'../src/utils/')"
   ]
  },
  {
   "cell_type": "code",
   "execution_count": 2,
   "metadata": {},
   "outputs": [
    {
     "name": "stderr",
     "output_type": "stream",
     "text": [
      "/home/u1318605/miniconda3/envs/Python37/lib/python3.7/site-packages/tqdm/auto.py:22: TqdmWarning: IProgress not found. Please update jupyter and ipywidgets. See https://ipywidgets.readthedocs.io/en/stable/user_install.html\n",
      "  from .autonotebook import tqdm as notebook_tqdm\n"
     ]
    }
   ],
   "source": [
    "import pandas as pd\n",
    "import os\n",
    "from Parse10K import Parse_10k\n",
    "from Parse10Q import Parse_10q\n",
    "import torch\n",
    "from torch.utils.data import Dataset, DataLoader"
   ]
  },
  {
   "cell_type": "code",
   "execution_count": 3,
   "metadata": {},
   "outputs": [],
   "source": [
    "class Main_Dataset(Dataset):\n",
    "    def __init__(self, encodings):\n",
    "        self.encodings = encodings.to('cuda')\n",
    "\n",
    "    def __getitem__(self, idx):\n",
    "        item = {key: torch.tensor(val[idx]) for key, val in self.encodings.items()}\n",
    "        return item\n",
    "\n",
    "    def __len__(self):\n",
    "        return len(self.encodings['input_ids'])"
   ]
  },
  {
   "cell_type": "code",
   "execution_count": 5,
   "metadata": {},
   "outputs": [],
   "source": [
    "from transformers import AutoTokenizer, AutoModel\n",
    "\n",
    "def bert_embedding(model, tokenizer, data_dict):\n",
    "\n",
    "    embedding_dict = {}\n",
    "\n",
    "    for item in data_dict:\n",
    "        embedding_dict[item] = []\n",
    "        tokenized_dataset = Main_Dataset(tokenizer(data_dict[item], truncation=True, padding='max_length', max_length=512, return_tensors='pt'))\n",
    "        tokenized_dataloader = DataLoader(tokenized_dataset, batch_size=16, shuffle=False)\n",
    "        for batch in tokenized_dataloader:\n",
    "            with torch.no_grad():\n",
    "                embedding = model(**batch)\n",
    "                embedding_dict[item].extend(embedding.pooler_output.clone().cpu().detach().tolist())\n",
    "\n",
    "    return embedding_dict"
   ]
  },
  {
   "cell_type": "code",
   "execution_count": 8,
   "metadata": {},
   "outputs": [
    {
     "name": "stderr",
     "output_type": "stream",
     "text": [
      "Some weights of the model checkpoint at roberta-base were not used when initializing RobertaModel: ['lm_head.layer_norm.weight', 'lm_head.bias', 'lm_head.dense.weight', 'lm_head.decoder.weight', 'lm_head.dense.bias', 'lm_head.layer_norm.bias']\n",
      "- This IS expected if you are initializing RobertaModel from the checkpoint of a model trained on another task or with another architecture (e.g. initializing a BertForSequenceClassification model from a BertForPreTraining model).\n",
      "- This IS NOT expected if you are initializing RobertaModel from the checkpoint of a model that you expect to be exactly identical (initializing a BertForSequenceClassification model from a BertForSequenceClassification model).\n",
      "/home/u1318605/miniconda3/envs/Python37/lib/python3.7/site-packages/ipykernel_launcher.py:6: UserWarning: To copy construct from a tensor, it is recommended to use sourceTensor.clone().detach() or sourceTensor.clone().detach().requires_grad_(True), rather than torch.tensor(sourceTensor).\n",
      "  \n"
     ]
    }
   ],
   "source": [
    "# Extract text from 10-K and using BERT embedding\n",
    "# Compute the euclidean_distances between the embeddings\n",
    "from sklearn.metrics.pairwise import euclidean_distances\n",
    "import numpy as np\n",
    "\n",
    "model_type = \"roberta-base\"\n",
    "tokenizer = AutoTokenizer.from_pretrained(model_type)\n",
    "model = AutoModel.from_pretrained(model_type)\n",
    "model.to('cuda')\n",
    "\n",
    "for dir in os.listdir('../data/sample/sec-filings/0000320193/10-K'):\n",
    "    file_path = os.path.join('../data/sample/sec-filings/0000320193/10-K', dir, 'full-submission.txt')\n",
    "    data_dict = Parse_10k(file_path)\n",
    "    embedding_dict = bert_embedding(model, tokenizer, data_dict)\n",
    "    torch.cuda.empty_cache()\n",
    "\n",
    "    for i in embedding_dict:\n",
    "        embedding_df = pd.DataFrame(embedding_dict[i])\n",
    "        #embedding_df.to_csv(f'../sample/sec-filings/0000320193/10-K/{dir}/embedding_{i}.csv', index=False)"
   ]
  },
  {
   "cell_type": "code",
   "execution_count": 1,
   "metadata": {},
   "outputs": [
    {
     "ename": "NameError",
     "evalue": "name 'Parse_10q' is not defined",
     "output_type": "error",
     "traceback": [
      "\u001b[0;31m---------------------------------------------------------------------------\u001b[0m",
      "\u001b[0;31mNameError\u001b[0m                                 Traceback (most recent call last)",
      "\u001b[0;32m<ipython-input-1-68863677613f>\u001b[0m in \u001b[0;36m<module>\u001b[0;34m()\u001b[0m\n\u001b[1;32m      6\u001b[0m \u001b[0;32mfor\u001b[0m \u001b[0mdir\u001b[0m \u001b[0;32min\u001b[0m \u001b[0mos\u001b[0m\u001b[0;34m.\u001b[0m\u001b[0mlistdir\u001b[0m\u001b[0;34m(\u001b[0m\u001b[0;34m'../sample/sec-filings/0000320193/10-Q'\u001b[0m\u001b[0;34m)\u001b[0m\u001b[0;34m:\u001b[0m\u001b[0;34m\u001b[0m\u001b[0;34m\u001b[0m\u001b[0m\n\u001b[1;32m      7\u001b[0m     \u001b[0mfile_path\u001b[0m \u001b[0;34m=\u001b[0m \u001b[0mos\u001b[0m\u001b[0;34m.\u001b[0m\u001b[0mpath\u001b[0m\u001b[0;34m.\u001b[0m\u001b[0mjoin\u001b[0m\u001b[0;34m(\u001b[0m\u001b[0;34m'../sample/sec-filings/0000320193/10-Q'\u001b[0m\u001b[0;34m,\u001b[0m \u001b[0mdir\u001b[0m\u001b[0;34m,\u001b[0m \u001b[0;34m'full-submission.txt'\u001b[0m\u001b[0;34m)\u001b[0m\u001b[0;34m\u001b[0m\u001b[0;34m\u001b[0m\u001b[0m\n\u001b[0;32m----> 8\u001b[0;31m     \u001b[0mdata_dict\u001b[0m \u001b[0;34m=\u001b[0m \u001b[0mParse_10q\u001b[0m\u001b[0;34m(\u001b[0m\u001b[0mfile_path\u001b[0m\u001b[0;34m)\u001b[0m\u001b[0;34m\u001b[0m\u001b[0;34m\u001b[0m\u001b[0m\n\u001b[0m\u001b[1;32m      9\u001b[0m     \u001b[0membedding_dict\u001b[0m \u001b[0;34m=\u001b[0m \u001b[0mbert_embedding\u001b[0m\u001b[0;34m(\u001b[0m\u001b[0mmodel\u001b[0m\u001b[0;34m,\u001b[0m \u001b[0mtokenizer\u001b[0m\u001b[0;34m,\u001b[0m \u001b[0mdata_dict\u001b[0m\u001b[0;34m)\u001b[0m\u001b[0;34m\u001b[0m\u001b[0;34m\u001b[0m\u001b[0m\n\u001b[1;32m     10\u001b[0m     \u001b[0mtorch\u001b[0m\u001b[0;34m.\u001b[0m\u001b[0mcuda\u001b[0m\u001b[0;34m.\u001b[0m\u001b[0mempty_cache\u001b[0m\u001b[0;34m(\u001b[0m\u001b[0;34m)\u001b[0m\u001b[0;34m\u001b[0m\u001b[0;34m\u001b[0m\u001b[0m\n",
      "\u001b[0;31mNameError\u001b[0m: name 'Parse_10q' is not defined"
     ]
    }
   ],
   "source": [
    "# Extract text from 10-Q and using BERT embedding\n",
    "# Compute the euclidean_distances between the embeddings\n",
    "from sklearn.metrics.pairwise import euclidean_distances\n",
    "import numpy as np\n",
    "\n",
    "for dir in os.listdir('../sample/sec-filings/0000320193/10-Q'):\n",
    "    file_path = os.path.join('../sample/sec-filings/0000320193/10-Q', dir, 'full-submission.txt')\n",
    "    data_dict = Parse_10q(file_path)\n",
    "    embedding_dict = bert_embedding(model, tokenizer, data_dict)\n",
    "    torch.cuda.empty_cache()\n",
    "\n",
    "    for i in embedding_dict:\n",
    "        embedding_df = pd.DataFrame(embedding_dict[i])\n",
    "        embedding_df.to_csv(f'../sample/sec-filings/0000320193/10-Q/{dir}/embedding_{i}.csv', index=False)"
   ]
  },
  {
   "cell_type": "code",
   "execution_count": 38,
   "metadata": {},
   "outputs": [],
   "source": [
    "from sklearn.metrics.pairwise import cosine_similarity, euclidean_distances\n",
    "import numpy as np\n",
    "#np.savetxt('test.csv', cosine_similarity(embedding_dict['item7'], embedding_dict['item7']), delimiter=',')"
   ]
  },
  {
   "cell_type": "code",
   "execution_count": 25,
   "metadata": {},
   "outputs": [
    {
     "data": {
      "text/plain": [
       "201"
      ]
     },
     "execution_count": 25,
     "metadata": {},
     "output_type": "execute_result"
    }
   ],
   "source": [
    "len(data_dict['item7'])"
   ]
  },
  {
   "cell_type": "code",
   "execution_count": 43,
   "metadata": {},
   "outputs": [
    {
     "data": {
      "text/plain": [
       "array([[0.40481595, 0.50042398, 0.44980586, ..., 0.53981367, 0.54969621,\n",
       "        0.66821801],\n",
       "       [0.44014344, 0.30664065, 0.41236877, ..., 0.37967468, 0.47161786,\n",
       "        0.69495852],\n",
       "       [0.55199175, 0.5351668 , 0.56939966, ..., 0.54923428, 0.60723344,\n",
       "        0.72769174],\n",
       "       ...,\n",
       "       [0.55262761, 0.45134904, 0.4452891 , ..., 0.49442286, 0.48552243,\n",
       "        0.66906868],\n",
       "       [0.45705761, 0.39144281, 0.42129927, ..., 0.38523885, 0.44769884,\n",
       "        0.62019126],\n",
       "       [0.49915907, 0.46015159, 0.36673597, ..., 0.48791908, 0.45626974,\n",
       "        0.54283875]])"
      ]
     },
     "execution_count": 43,
     "metadata": {},
     "output_type": "execute_result"
    }
   ],
   "source": [
    "euclidean_distances(embedding_dict['item7'], embedding_dict['item1a'])"
   ]
  },
  {
   "cell_type": "code",
   "execution_count": null,
   "metadata": {},
   "outputs": [],
   "source": []
  }
 ],
 "metadata": {
  "kernelspec": {
   "display_name": "Python 3.7.13 ('Python37': conda)",
   "language": "python",
   "name": "python3"
  },
  "language_info": {
   "codemirror_mode": {
    "name": "ipython",
    "version": 3
   },
   "file_extension": ".py",
   "mimetype": "text/x-python",
   "name": "python",
   "nbconvert_exporter": "python",
   "pygments_lexer": "ipython3",
   "version": "3.7.13"
  },
  "orig_nbformat": 4,
  "vscode": {
   "interpreter": {
    "hash": "7e7f5c2463d31cf862e2294ab34207bf9ac4843ccf32c60723666a961c82f52e"
   }
  }
 },
 "nbformat": 4,
 "nbformat_minor": 2
}
