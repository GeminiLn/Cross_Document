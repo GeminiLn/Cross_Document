{
 "cells": [
  {
   "cell_type": "code",
   "execution_count": 2,
   "metadata": {},
   "outputs": [],
   "source": [
    "import numpy as np\n",
    "import pandas as pd"
   ]
  },
  {
   "cell_type": "code",
   "execution_count": 3,
   "metadata": {},
   "outputs": [],
   "source": [
    "# 10-K & 10-Q"
   ]
  },
  {
   "cell_type": "code",
   "execution_count": 12,
   "metadata": {},
   "outputs": [],
   "source": [
    "K_1a = pd.read_csv('../data/sample/sec-filings/0000320193/10-K/0000320193-17-000070/embedding_item1a.csv')\n",
    "K_7 = pd.read_csv('../data/sample/sec-filings/0000320193/10-K/0000320193-17-000070/embedding_item7a.csv')\n",
    "K_7a = pd.read_csv('../data/sample/sec-filings/0000320193/10-K/0000320193-17-000070/embedding_item7a.csv')"
   ]
  },
  {
   "cell_type": "code",
   "execution_count": 14,
   "metadata": {},
   "outputs": [],
   "source": [
    "Q_1_2 = pd.read_csv('../data/sample/sec-filings/0000320193/10-Q/0000320193-17-000009/embedding_item1_2.csv')\n",
    "Q_1_3 = pd.read_csv('../data/sample/sec-filings/0000320193/10-Q/0000320193-17-000009/embedding_item1_3.csv')\n",
    "Q_2_1a = pd.read_csv('../data/sample/sec-filings/0000320193/10-Q/0000320193-17-000009/embedding_item2_1A.csv')"
   ]
  }
 ],
 "metadata": {
  "kernelspec": {
   "display_name": "Python 3.7.13 64-bit",
   "language": "python",
   "name": "python3"
  },
  "language_info": {
   "codemirror_mode": {
    "name": "ipython",
    "version": 3
   },
   "file_extension": ".py",
   "mimetype": "text/x-python",
   "name": "python",
   "nbconvert_exporter": "python",
   "pygments_lexer": "ipython3",
   "version": "3.7.13"
  },
  "orig_nbformat": 4,
  "vscode": {
   "interpreter": {
    "hash": "31f2aee4e71d21fbe5cf8b01ff0e069b9275f58929596ceb00d14d90e3e16cd6"
   }
  }
 },
 "nbformat": 4,
 "nbformat_minor": 2
}
